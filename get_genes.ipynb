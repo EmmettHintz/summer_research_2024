{
 "cells": [
  {
   "cell_type": "code",
   "execution_count": 21,
   "metadata": {},
   "outputs": [],
   "source": [
    "import pandas as pd"
   ]
  },
  {
   "cell_type": "code",
   "execution_count": 22,
   "metadata": {},
   "outputs": [],
   "source": [
    "data = pd.read_csv('/Users/emmetthintz/Documents/summer2024/summer_research_2024-1/control_nr.csv')"
   ]
  },
  {
   "cell_type": "code",
   "execution_count": 23,
   "metadata": {},
   "outputs": [
    {
     "data": {
      "text/html": [
       "<div>\n",
       "<style scoped>\n",
       "    .dataframe tbody tr th:only-of-type {\n",
       "        vertical-align: middle;\n",
       "    }\n",
       "\n",
       "    .dataframe tbody tr th {\n",
       "        vertical-align: top;\n",
       "    }\n",
       "\n",
       "    .dataframe thead th {\n",
       "        text-align: right;\n",
       "    }\n",
       "</style>\n",
       "<table border=\"1\" class=\"dataframe\">\n",
       "  <thead>\n",
       "    <tr style=\"text-align: right;\">\n",
       "      <th></th>\n",
       "      <th>Gene Symbol</th>\n",
       "      <th>p-value</th>\n",
       "      <th>FDR</th>\n",
       "      <th>Odd ratio</th>\n",
       "      <th>Number of interactions</th>\n",
       "      <th>microRNA 1</th>\n",
       "      <th>microRNA 2</th>\n",
       "      <th>microRNA 3</th>\n",
       "      <th>microRNA 4</th>\n",
       "    </tr>\n",
       "  </thead>\n",
       "  <tbody>\n",
       "    <tr>\n",
       "      <th>0</th>\n",
       "      <td>CCDC83</td>\n",
       "      <td>0.000029</td>\n",
       "      <td>0.00553</td>\n",
       "      <td>0.0226</td>\n",
       "      <td>3</td>\n",
       "      <td>hsa-miR-146b-5p</td>\n",
       "      <td>hsa-miR-146a-5p</td>\n",
       "      <td>hsa-miR-503-5p</td>\n",
       "      <td>NaN</td>\n",
       "    </tr>\n",
       "    <tr>\n",
       "      <th>1</th>\n",
       "      <td>DECR1</td>\n",
       "      <td>0.000029</td>\n",
       "      <td>0.00553</td>\n",
       "      <td>0.0226</td>\n",
       "      <td>3</td>\n",
       "      <td>hsa-miR-146b-5p</td>\n",
       "      <td>hsa-miR-146a-5p</td>\n",
       "      <td>hsa-miR-503-5p</td>\n",
       "      <td>NaN</td>\n",
       "    </tr>\n",
       "    <tr>\n",
       "      <th>2</th>\n",
       "      <td>DGCR6L</td>\n",
       "      <td>0.000029</td>\n",
       "      <td>0.00553</td>\n",
       "      <td>0.0226</td>\n",
       "      <td>3</td>\n",
       "      <td>hsa-miR-423-3p</td>\n",
       "      <td>hsa-miR-146b-5p</td>\n",
       "      <td>hsa-miR-146a-5p</td>\n",
       "      <td>NaN</td>\n",
       "    </tr>\n",
       "    <tr>\n",
       "      <th>3</th>\n",
       "      <td>IRAK1</td>\n",
       "      <td>0.000015</td>\n",
       "      <td>0.00553</td>\n",
       "      <td>0.0185</td>\n",
       "      <td>3</td>\n",
       "      <td>hsa-miR-146a-5p</td>\n",
       "      <td>hsa-miR-146b-5p</td>\n",
       "      <td>hsa-miR-423-3p</td>\n",
       "      <td>NaN</td>\n",
       "    </tr>\n",
       "    <tr>\n",
       "      <th>4</th>\n",
       "      <td>MRPL10</td>\n",
       "      <td>0.000025</td>\n",
       "      <td>0.00553</td>\n",
       "      <td>0.0215</td>\n",
       "      <td>3</td>\n",
       "      <td>hsa-miR-503-5p</td>\n",
       "      <td>hsa-miR-146b-5p</td>\n",
       "      <td>hsa-miR-146a-5p</td>\n",
       "      <td>NaN</td>\n",
       "    </tr>\n",
       "  </tbody>\n",
       "</table>\n",
       "</div>"
      ],
      "text/plain": [
       "  Gene Symbol   p-value      FDR  Odd ratio  Number of interactions  \\\n",
       "0      CCDC83  0.000029  0.00553     0.0226                       3   \n",
       "1       DECR1  0.000029  0.00553     0.0226                       3   \n",
       "2      DGCR6L  0.000029  0.00553     0.0226                       3   \n",
       "3       IRAK1  0.000015  0.00553     0.0185                       3   \n",
       "4      MRPL10  0.000025  0.00553     0.0215                       3   \n",
       "\n",
       "        microRNA 1       microRNA 2       microRNA 3 microRNA 4  \n",
       "0  hsa-miR-146b-5p  hsa-miR-146a-5p   hsa-miR-503-5p        NaN  \n",
       "1  hsa-miR-146b-5p  hsa-miR-146a-5p   hsa-miR-503-5p        NaN  \n",
       "2   hsa-miR-423-3p  hsa-miR-146b-5p  hsa-miR-146a-5p        NaN  \n",
       "3  hsa-miR-146a-5p  hsa-miR-146b-5p   hsa-miR-423-3p        NaN  \n",
       "4   hsa-miR-503-5p  hsa-miR-146b-5p  hsa-miR-146a-5p        NaN  "
      ]
     },
     "execution_count": 23,
     "metadata": {},
     "output_type": "execute_result"
    }
   ],
   "source": [
    "data.head()"
   ]
  },
  {
   "cell_type": "code",
   "execution_count": 24,
   "metadata": {},
   "outputs": [
    {
     "name": "stdout",
     "output_type": "stream",
     "text": [
      "CCDC83 DECR1 DGCR6L IRAK1 MRPL10 PA2G4 S100A12 TLL1 ZNF260 COPA LSM4 PPP1R11 FAF1 CCDC32 FANCF HORMAD2 CD300LB DHFR MKRN2 MFSD6 ERBB4 USP48 PACS2 IL1RAP ACTBL2 IL1RL2 GCN1 MTA2 UHRF1 LBR BTN2A2 EMC2 GPM6B CDC73 NFKB1 NSL1 ZNF629 MDN1 ACD ALG5 ARL8A ATG9A BRCA1 C22orf42 CD80 CFH COMMD9 DCLRE1A DDHD2 DND1 ELP2 EXOSC8 GLDC HBQ1 IL6 IS2 LINC00304 LRRTM2 LYPD1 MRPL27 MRPS22 MT1E MYB NOTUM OR8U1 PEPD PHOSPHO2 PSMD1 RARB SCML1 SERPINA4 SFRP1 SHCBP1 SLIT3 SNTG2 SQSTM1 ST6GAL2 SUMO3 TBCE TGFB1 TLR4 TRPM2 TYMSOS UBFD1 VPS25 ZNF217 ESD MAN1C1 WSB2 HAAO SNRPB2 AVL9 AGO1 APOBEC3C ARHGEF2 CARD10 DCAF10 GPRIN2 HSPA1B MYLK SLC25A15 WASF2 AGPAT2 AKAP8 ALAS1 APPL1 ATP13A3 BAZ2B C1orf21 CCL3 CCL4 CCNA2 CHFR CIRBP CYTIP DHFRP1 E2F3 EGFR EPSTI1 FEN1 FGF8 GNPAT GRAP2 IFNR IRF7 ISG15 KIAA1671 LARP1 LIMD2 LRP2 LRR1 MAP3K9 MESD MRPS30 MT1M NAE1 NARF NOP56 NUDT2 PCK2 POU3F1 PPWD1 PSTPIP2 PUM3 RANBP2 RGS13 RHO RSAD2 SAC3D1 SPNS1 SRPRB SULT2A1 SYT12 TMEM101 TRIM11 UQCC1 ZMYND19 ZNF292 ZNF738 PLA2G4A TMEM136 CYBRD1 ROBO1 SLC5A6 ARFGAP1 AUNIP BCL2A1 BEX1 BRD8 C6orf106 CASR CCR9 CDK7 CENPU CIP2A COPS5 CUZD1 DUS1L EXOSC1 FAAP100 FBXO34 FNTB FRMD4A IFI27 IFI44 ITGB2 KCNJ14 LARP1B MALSU1 MRPS24 MTUS2 MYO6 NDUFA4P1 NOTCH1 NR0B2 OASL PKN1 PML RAB2B RHOT2 S100A8 S100P SERGEF SLC2A3 SUCLG1 TMEM214 TRIM22 UBE2J2 UMPS UTP15 ZNF324 ZNF420 AKT3 BCL2L12 MCM7 SRPRA CHEK1 ACTL6A ARHGAP39 ATAD3A BCL7B CDKN1A CMTM3 CMTM4 CORO1A DEDD DNAJB12 FAH FGF11 FKBP1B GTF3C2 IFIT5 IL18 KAZALD1 MAGI1 METTL7A NMI PCGF6 PI4K2B PLEKHG5 POMT2 RAD54L2 RNF144A RRP1 RRP12 RUFY2 SF3B3 SF3B4 SLC10A3 SLC33A1 SLC52A2 TDRP THAP12 TOMM34 VRK1 WRB FBXW7 TMPRSS5 WIZ ABCB10 ABCB9 ADCY1 ADD1 ADPGK AKAP7 ANLN ARHGEF19 ATAD1 C16orf52 CARD11 CCND2 CCNG2 CD34 CD40 CSTF3 CWC27 DDX56 GSDMA HDLBP IL4 LARP4 MBD4 MICAL2 MMS19 MOGS NEK6 NET1 NOVA1 PACSIN3 PDLIM5 PRDX6 PTDSS2 RALA RHOBTB3 SERTAD2 SYCE1L TLE1 TMTC4 TUBGCP2 UPF1 URB2 YRDC ZNRF3 RGS9BP ENTPD5 MPP2 MTRF1L TNPO3 BRWD1 AAMP AHSA1 AMPD2 ANPEP ATG4A BGLAP CCDC122 CTSD DNAJC10 EEF1A1 FADD FLII IGF2R IL1B KIDINS220 KIF22 MIF MRPL40 NDUFA7 NIPSNAP2 NOS3 NT5C1A OGFR PAF1 PIK3R4 PLAUR POLD1 POLR2L RAI14 RFWD2 SPP1 SCAMP2 TRAF6 BBC3 RAC1 CDC14A COPS7A DDX46 DSC2 ELP1 GATA3 GATA6 JARID2 MAPK3 MED22 MUL1 PDLIM7 PROSER1 PSMD8 RAP2C SLC6A20 STOML2 URM1 SMAD2 ALG10B EDEM3 KCTD15 ANK3 CCAR1 DLST EIF3B EIF4B ESRRA FADS2 GORASP2 HKR1 IQCB1 LAMC2 NCOA5 OLR1 PER2 POLL POLR3H PPAN PRKCE RIN3 RPL26 SCML2 SLC35B2 TOP1 TRAF7 RIF1 RBBP4 ACACA C15orf39 CNDP2 CYP11B2 CYTB DTL GFOD1 GYG2 KIF1A LIMS2 LRRC10 NCSTN NEMP1 NT5DC2 NXPE2 OARD1 PSME3 PTENP1 RCC1L SMN1 TMEM173 TMEM92 LMNB2 DYNLL2\n"
     ]
    }
   ],
   "source": [
    "genes = data['Gene Symbol'].tolist()\n",
    "# Print genes as a list with no quotes as a string\n",
    "print(' '.join(genes))"
   ]
  }
 ],
 "metadata": {
  "kernelspec": {
   "display_name": "myenv",
   "language": "python",
   "name": "python3"
  },
  "language_info": {
   "codemirror_mode": {
    "name": "ipython",
    "version": 3
   },
   "file_extension": ".py",
   "mimetype": "text/x-python",
   "name": "python",
   "nbconvert_exporter": "python",
   "pygments_lexer": "ipython3",
   "version": "3.10.8"
  }
 },
 "nbformat": 4,
 "nbformat_minor": 2
}
