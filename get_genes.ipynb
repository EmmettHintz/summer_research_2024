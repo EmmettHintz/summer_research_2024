{
 "cells": [
  {
   "cell_type": "code",
   "execution_count": 13,
   "metadata": {},
   "outputs": [],
   "source": [
    "import pandas as pd"
   ]
  },
  {
   "cell_type": "code",
   "execution_count": 14,
   "metadata": {},
   "outputs": [],
   "source": [
    "data = pd.read_csv('/Users/emmetthintz/Documents/summer2024/summer_research_2024-1/control_responders.csv')"
   ]
  },
  {
   "cell_type": "code",
   "execution_count": 15,
   "metadata": {},
   "outputs": [
    {
     "data": {
      "text/html": [
       "<div>\n",
       "<style scoped>\n",
       "    .dataframe tbody tr th:only-of-type {\n",
       "        vertical-align: middle;\n",
       "    }\n",
       "\n",
       "    .dataframe tbody tr th {\n",
       "        vertical-align: top;\n",
       "    }\n",
       "\n",
       "    .dataframe thead th {\n",
       "        text-align: right;\n",
       "    }\n",
       "</style>\n",
       "<table border=\"1\" class=\"dataframe\">\n",
       "  <thead>\n",
       "    <tr style=\"text-align: right;\">\n",
       "      <th></th>\n",
       "      <th>Gene Symbol</th>\n",
       "      <th>p-value</th>\n",
       "      <th>FDR</th>\n",
       "      <th>Odd ratio</th>\n",
       "      <th>Number of interactions</th>\n",
       "      <th>microRNA 1</th>\n",
       "      <th>microRNA 2</th>\n",
       "      <th>microRNA 3</th>\n",
       "      <th>microRNA 4</th>\n",
       "    </tr>\n",
       "  </thead>\n",
       "  <tbody>\n",
       "    <tr>\n",
       "      <th>0</th>\n",
       "      <td>CCDC83</td>\n",
       "      <td>0.000029</td>\n",
       "      <td>0.00553</td>\n",
       "      <td>0.0226</td>\n",
       "      <td>3</td>\n",
       "      <td>hsa-miR-146b-5p</td>\n",
       "      <td>hsa-miR-146a-5p</td>\n",
       "      <td>hsa-miR-503-5p</td>\n",
       "      <td>NaN</td>\n",
       "    </tr>\n",
       "    <tr>\n",
       "      <th>1</th>\n",
       "      <td>DECR1</td>\n",
       "      <td>0.000029</td>\n",
       "      <td>0.00553</td>\n",
       "      <td>0.0226</td>\n",
       "      <td>3</td>\n",
       "      <td>hsa-miR-146b-5p</td>\n",
       "      <td>hsa-miR-146a-5p</td>\n",
       "      <td>hsa-miR-503-5p</td>\n",
       "      <td>NaN</td>\n",
       "    </tr>\n",
       "    <tr>\n",
       "      <th>2</th>\n",
       "      <td>DGCR6L</td>\n",
       "      <td>0.000029</td>\n",
       "      <td>0.00553</td>\n",
       "      <td>0.0226</td>\n",
       "      <td>3</td>\n",
       "      <td>hsa-miR-423-3p</td>\n",
       "      <td>hsa-miR-146b-5p</td>\n",
       "      <td>hsa-miR-146a-5p</td>\n",
       "      <td>NaN</td>\n",
       "    </tr>\n",
       "    <tr>\n",
       "      <th>3</th>\n",
       "      <td>IRAK1</td>\n",
       "      <td>0.000015</td>\n",
       "      <td>0.00553</td>\n",
       "      <td>0.0185</td>\n",
       "      <td>3</td>\n",
       "      <td>hsa-miR-146a-5p</td>\n",
       "      <td>hsa-miR-146b-5p</td>\n",
       "      <td>hsa-miR-423-3p</td>\n",
       "      <td>NaN</td>\n",
       "    </tr>\n",
       "    <tr>\n",
       "      <th>4</th>\n",
       "      <td>MRPL10</td>\n",
       "      <td>0.000025</td>\n",
       "      <td>0.00553</td>\n",
       "      <td>0.0215</td>\n",
       "      <td>3</td>\n",
       "      <td>hsa-miR-503-5p</td>\n",
       "      <td>hsa-miR-146b-5p</td>\n",
       "      <td>hsa-miR-146a-5p</td>\n",
       "      <td>NaN</td>\n",
       "    </tr>\n",
       "  </tbody>\n",
       "</table>\n",
       "</div>"
      ],
      "text/plain": [
       "  Gene Symbol   p-value      FDR  Odd ratio  Number of interactions  \\\n",
       "0      CCDC83  0.000029  0.00553     0.0226                       3   \n",
       "1       DECR1  0.000029  0.00553     0.0226                       3   \n",
       "2      DGCR6L  0.000029  0.00553     0.0226                       3   \n",
       "3       IRAK1  0.000015  0.00553     0.0185                       3   \n",
       "4      MRPL10  0.000025  0.00553     0.0215                       3   \n",
       "\n",
       "        microRNA 1       microRNA 2       microRNA 3 microRNA 4  \n",
       "0  hsa-miR-146b-5p  hsa-miR-146a-5p   hsa-miR-503-5p        NaN  \n",
       "1  hsa-miR-146b-5p  hsa-miR-146a-5p   hsa-miR-503-5p        NaN  \n",
       "2   hsa-miR-423-3p  hsa-miR-146b-5p  hsa-miR-146a-5p        NaN  \n",
       "3  hsa-miR-146a-5p  hsa-miR-146b-5p   hsa-miR-423-3p        NaN  \n",
       "4   hsa-miR-503-5p  hsa-miR-146b-5p  hsa-miR-146a-5p        NaN  "
      ]
     },
     "execution_count": 15,
     "metadata": {},
     "output_type": "execute_result"
    }
   ],
   "source": [
    "data.head()"
   ]
  },
  {
   "cell_type": "code",
   "execution_count": 17,
   "metadata": {},
   "outputs": [
    {
     "name": "stdout",
     "output_type": "stream",
     "text": [
      "CCDC83 DECR1 DGCR6L IRAK1 MRPL10 PA2G4 S100A12 TLL1 ZNF260 COPA LSM4 PPP1R11 FAF1 CCDC32 FANCF HORMAD2 CD300LB DHFR MKRN2 MFSD6 ERBB4 USP48 PACS2 IL1RAP ACTBL2 IL1RL2 GCN1 MTA2 UHRF1 LBR\n"
     ]
    }
   ],
   "source": [
    "genes = data['Gene Symbol'].tolist()\n",
    "# Print genes as a list with no quotes as a string\n",
    "print(' '.join(genes))"
   ]
  },
  {
   "cell_type": "code",
   "execution_count": null,
   "metadata": {},
   "outputs": [],
   "source": []
  }
 ],
 "metadata": {
  "kernelspec": {
   "display_name": "myenv",
   "language": "python",
   "name": "python3"
  },
  "language_info": {
   "codemirror_mode": {
    "name": "ipython",
    "version": 3
   },
   "file_extension": ".py",
   "mimetype": "text/x-python",
   "name": "python",
   "nbconvert_exporter": "python",
   "pygments_lexer": "ipython3",
   "version": "3.10.8"
  }
 },
 "nbformat": 4,
 "nbformat_minor": 2
}
